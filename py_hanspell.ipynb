{
  "nbformat": 4,
  "nbformat_minor": 0,
  "metadata": {
    "colab": {
      "name": "py-hanspell.ipynb",
      "provenance": [],
      "collapsed_sections": [],
      "toc_visible": true,
      "mount_file_id": "1B-IDrjxLkyWya0PAq_lSKH-r_QguIt2B",
      "authorship_tag": "ABX9TyPcTn+zX/rHstf1CC/Vm3TC",
      "include_colab_link": true
    },
    "kernelspec": {
      "name": "python3",
      "display_name": "Python 3"
    }
  },
  "cells": [
    {
      "cell_type": "markdown",
      "metadata": {
        "id": "view-in-github",
        "colab_type": "text"
      },
      "source": [
        "<a href=\"https://colab.research.google.com/github/moey920/hunspell/blob/master/py_hanspell.ipynb\" target=\"_parent\"><img src=\"https://colab.research.google.com/assets/colab-badge.svg\" alt=\"Open In Colab\"/></a>"
      ]
    },
    {
      "cell_type": "markdown",
      "metadata": {
        "id": "wAi5LrjK-ohZ",
        "colab_type": "text"
      },
      "source": [
        "# py-hunspell 설치\n",
        "\n",
        "py-hunspell 업데이트가 이뤄지지 않아서 그런지 \n",
        "- !git clone https://github.com/ssut/py-hanspell.git\n",
        "혹은\n",
        "- !pip install py-hunspell\n",
        "을 이용한 방법은 디텍토리 및 파일 찾는 경우에서 오류가 나거나, pip.req 모듈을 찾을 수 없는 오류가 발생합니다(pip 버전을 다운그레이드해서 사용할 수도 있겠지만..)\n",
        "\n",
        "따라서 \n",
        "1. git의 gunspell 디렉토리를 로컬 드라이브에 다운로드\n",
        "2. 구글 드라이브에 업로드\n",
        "3. 파이썬 라이브러리 os를 통해 해당 디렉토리로 이동\n",
        "4. pip 버전을 9.0.3으로 다운그레이드(pip.req 모듈 사용을 위해)\n",
        "4. 설치 진행\n",
        "\n",
        "순서로 설치를 진행하였습니다."
      ]
    },
    {
      "cell_type": "markdown",
      "metadata": {
        "id": "y0tE3_50BlOq",
        "colab_type": "text"
      },
      "source": [
        "## 오류 수정(업데이트)\n",
        "이대로 사용할 경우 result = spell_checker.check()에서\n",
        "- JSONDecodeError: Expecting value: line 1 column 1 (char 0)\n",
        "오류가 발생합니다.\n",
        "로컬 드라이브에 설치한 py-hanspell/hanspell 내의 파일\n",
        "\n",
        "-  contants.py에서:\n",
        "base_url = 'https://m.search.naver.com/p/csearch/ocontent/spellchecker.nhn'\n",
        "\n",
        "- spell_checker.py에서 headers{} 수정:\n",
        "headers = {\n",
        "        'user-agent':'Mozilla/5.0 (Windows NT 10.0; Win64; x64) AppleWebKit/537.36 (KHTML, like Gecko) Chrome/57.0.2987.133 Safari/537.36',\n",
        "        'referer':'https://search.naver.com/'\n",
        "    }\n",
        "\n",
        "두 가지 작업을 진행해야 정상적으로 사용할 수 있습니다."
      ]
    },
    {
      "cell_type": "markdown",
      "metadata": {
        "id": "C7lHh2pD_cqC",
        "colab_type": "text"
      },
      "source": [
        "# 파이썬 외 hunspell 이용방법\n",
        "1. AWS를 통해 리눅스(우분투, 페도라 등 hunspell 개발을 지원하는 환경) 가상서버를 임대 - 프리티어로 가입하여 무료 서버를 임대하되, 사용한도나 기간에 유념하여 돈이 지불되는 것을 조심하세요.\n",
        "2. SublimeText에서 hunspell을 지원합니다. 개발환경을 구축하여 사용하세요. (https://muteklab.com/sublimetext-majcumbeob-geomsagi-hwalyonghagi.html) 를 참고하시기 바랍니다."
      ]
    },
    {
      "cell_type": "code",
      "metadata": {
        "id": "0GeduLGS-dDg",
        "colab_type": "code",
        "colab": {}
      },
      "source": [
        "import os\n",
        "os.chdir('/content/drive/My Drive/py-hanspell')\n",
        "os.getcwd()"
      ],
      "execution_count": 0,
      "outputs": []
    },
    {
      "cell_type": "code",
      "metadata": {
        "id": "NA5xokEa-jJT",
        "colab_type": "code",
        "colab": {}
      },
      "source": [
        "!ls"
      ],
      "execution_count": 0,
      "outputs": []
    },
    {
      "cell_type": "code",
      "metadata": {
        "id": "UcmrufjgCTqD",
        "colab_type": "code",
        "colab": {}
      },
      "source": [
        "!pip install pip==9.0.3"
      ],
      "execution_count": 0,
      "outputs": []
    },
    {
      "cell_type": "code",
      "metadata": {
        "id": "7VEc6zPl8Pnk",
        "colab_type": "code",
        "colab": {}
      },
      "source": [
        "!python setup.py install"
      ],
      "execution_count": 0,
      "outputs": []
    },
    {
      "cell_type": "markdown",
      "metadata": {
        "id": "Uudk4s2NGdWx",
        "colab_type": "text"
      },
      "source": [
        "## 사용방법(dict 받기)"
      ]
    },
    {
      "cell_type": "code",
      "metadata": {
        "id": "K5sTcIEN9RoV",
        "colab_type": "code",
        "colab": {}
      },
      "source": [
        "from hanspell import spell_checker\n",
        "result = spell_checker.check(u'안녕 하세요. 저는 한국인 입니다. 이문장은 한글로 작성됬습니다.')\n",
        "result.as_dict() # 딕셔너리로 출력"
      ],
      "execution_count": 0,
      "outputs": []
    },
    {
      "cell_type": "code",
      "metadata": {
        "id": "n-vLVVohAMMx",
        "colab_type": "code",
        "colab": {}
      },
      "source": [
        "result"
      ],
      "execution_count": 0,
      "outputs": []
    },
    {
      "cell_type": "markdown",
      "metadata": {
        "id": "4aUYjqDVGfCI",
        "colab_type": "text"
      },
      "source": [
        "## list로 주고받기"
      ]
    },
    {
      "cell_type": "code",
      "metadata": {
        "id": "36m8hzsaGYHS",
        "colab_type": "code",
        "colab": {}
      },
      "source": [
        "from hanspell import spell_checker\n",
        "spell_checker.check([u'안녕 하세요.', u'저는 한국인 입니다.'])"
      ],
      "execution_count": 0,
      "outputs": []
    },
    {
      "cell_type": "markdown",
      "metadata": {
        "id": "dGy4cdZ0GtA4",
        "colab_type": "text"
      },
      "source": [
        "## Checked.words\n",
        "위 사용 방법에 나와있는 words 부분은 교정된 최종 문장을 공백으로 나눈(split) 결과입니다.\n",
        "\n",
        "결과는 key가 단어, value가 CheckResult를 나타냅니다.\n",
        "\n",
        "아래 코드를 참고하세요."
      ]
    },
    {
      "cell_type": "code",
      "metadata": {
        "id": "_u2-3Q9gGluo",
        "colab_type": "code",
        "colab": {}
      },
      "source": [
        "for key, value in result.words.items() :\n",
        "    print(key, value)"
      ],
      "execution_count": 0,
      "outputs": []
    },
    {
      "cell_type": "markdown",
      "metadata": {
        "id": "QWy_t6lkG7va",
        "colab_type": "text"
      },
      "source": [
        "## CheckResult\n",
        "아래 코드로 import 하신 후 비교에 사용할 수 있는 상수입니다.\n",
        "\n",
        "- .PASSED : 맞춤법 검사 결과 문제가 없는 단어 또는 구절\n",
        "- .WRONG_SPELLING : 맞춤법에 문제가 있는 단어 또는 구절\n",
        "- .WRONG_SPACING : 띄어쓰기가 문제가 있는 단어 또는 구절\n",
        "- .AMBIGUOUS : 표준어가 의심되는 단어 또는 구절"
      ]
    },
    {
      "cell_type": "markdown",
      "metadata": {
        "id": "8vdornjYM9NK",
        "colab_type": "text"
      },
      "source": [
        "# 실제 맞춤법검사 예시"
      ]
    },
    {
      "cell_type": "code",
      "metadata": {
        "id": "WZ6_v1ntGx7T",
        "colab_type": "code",
        "colab": {}
      },
      "source": [
        "from hanspell.constants import CheckResult"
      ],
      "execution_count": 0,
      "outputs": []
    },
    {
      "cell_type": "code",
      "metadata": {
        "id": "HX3uSIgGKFW0",
        "colab_type": "code",
        "colab": {}
      },
      "source": [
        "list_file = [line.rstrip('\\n') for line in open('/content/drive/My Drive/tmp/3.txt', 'r')] #open에 파일경로명은 구글 드라이브 등에서 자신이 업로드한 파일을 입력해주세요.\n",
        "# 현재 코드는 읽어온 텍스트 파일에 대하여 \\n 줄바꿈 기호를 기준으로 한 라인씩 리스트로 받아옵니다.\n",
        "list_file"
      ],
      "execution_count": 0,
      "outputs": []
    },
    {
      "cell_type": "code",
      "metadata": {
        "id": "u-wfY85lG_d2",
        "colab_type": "code",
        "colab": {}
      },
      "source": [
        "from hanspell import spell_checker\n",
        "result = spell_checker.check(list_file)\n",
        "result"
      ],
      "execution_count": 0,
      "outputs": []
    }
  ]
}